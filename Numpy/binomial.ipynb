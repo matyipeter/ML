{
 "cells": [
  {
   "cell_type": "code",
   "execution_count": 1,
   "id": "bc6ebfb7",
   "metadata": {},
   "outputs": [],
   "source": [
    "import numpy as np\n",
    "from numpy import random"
   ]
  },
  {
   "cell_type": "code",
   "execution_count": 108,
   "id": "ec707ba4",
   "metadata": {},
   "outputs": [
    {
     "name": "stdout",
     "output_type": "stream",
     "text": [
      "[4 6 6 4 4 4 7 9 6 7 6 5 7 8 4 6 7 3 5 3 4 2 6 7 8 6 5 7 6 5 8 5 6 5 3 8 6\n",
      " 6 6 5 5 1 5 6 6 6 5 7 5 8 4 7 3 3 6 6 3 6 1 6 6 5 5 6 7 7 1 4 6 8 7 4 6 6\n",
      " 2 4 6 2 5 6 3 4 7 6 5 3 3 6 3 2 5 4 7 4 5 7 4 6 2 5]\n"
     ]
    }
   ],
   "source": [
    "x = random.binomial(n=10, p=0.5, size=100)\n",
    "print(x)"
   ]
  }
 ],
 "metadata": {
  "kernelspec": {
   "display_name": "Python 3 (ipykernel)",
   "language": "python",
   "name": "python3"
  },
  "language_info": {
   "codemirror_mode": {
    "name": "ipython",
    "version": 3
   },
   "file_extension": ".py",
   "mimetype": "text/x-python",
   "name": "python",
   "nbconvert_exporter": "python",
   "pygments_lexer": "ipython3",
   "version": "3.11.4"
  }
 },
 "nbformat": 4,
 "nbformat_minor": 5
}
