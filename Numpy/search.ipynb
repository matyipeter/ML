{
 "cells": [
  {
   "cell_type": "code",
   "execution_count": 1,
   "id": "ad6ce001",
   "metadata": {},
   "outputs": [],
   "source": [
    "import numpy as np"
   ]
  },
  {
   "cell_type": "markdown",
   "id": "10764541",
   "metadata": {},
   "source": [
    "## Searching Arrays"
   ]
  },
  {
   "cell_type": "code",
   "execution_count": 2,
   "id": "d20fbf48",
   "metadata": {},
   "outputs": [
    {
     "name": "stdout",
     "output_type": "stream",
     "text": [
      "(array([3, 5, 6]),)\n"
     ]
    }
   ],
   "source": [
    "arr = np.array([1, 2, 3, 4, 5, 4, 4])\n",
    "\n",
    "x = np.where(arr == 4)\n",
    "\n",
    "print(x) "
   ]
  },
  {
   "cell_type": "markdown",
   "id": "723fdb50",
   "metadata": {},
   "source": [
    "## Find the indexes where the values are even: "
   ]
  },
  {
   "cell_type": "code",
   "execution_count": 3,
   "id": "848aba1f",
   "metadata": {},
   "outputs": [
    {
     "name": "stdout",
     "output_type": "stream",
     "text": [
      "(array([1, 3, 5, 6]),)\n"
     ]
    }
   ],
   "source": [
    "arr = np.array([1, 2, 3, 4, 5, 4, 4])\n",
    "x = np.where(arr % 2 == 0)\n",
    "print(x)"
   ]
  },
  {
   "cell_type": "markdown",
   "id": "626a82ea",
   "metadata": {},
   "source": [
    "##  Searchsorted"
   ]
  },
  {
   "cell_type": "markdown",
   "id": "af0ba5c2",
   "metadata": {},
   "source": [
    "#### The searchsorted() method is assumed to be used on sorted arrays."
   ]
  },
  {
   "cell_type": "markdown",
   "id": "8a649a1c",
   "metadata": {},
   "source": [
    "#### Find the indexes where the value 5 should be inserted:"
   ]
  },
  {
   "cell_type": "code",
   "execution_count": 8,
   "id": "777fbf2e",
   "metadata": {},
   "outputs": [
    {
     "name": "stdout",
     "output_type": "stream",
     "text": [
      "0\n"
     ]
    }
   ],
   "source": [
    "arr = np.array([6, 7, 8, 9])\n",
    "\n",
    "x = np.searchsorted(arr, 5)\n",
    "\n",
    "print(x) "
   ]
  },
  {
   "cell_type": "markdown",
   "id": "f682dd0c",
   "metadata": {},
   "source": [
    "#### By default the left most index is returned, but we can give side='right' to return the right most index instead."
   ]
  },
  {
   "cell_type": "code",
   "execution_count": 11,
   "id": "5047a9d4",
   "metadata": {},
   "outputs": [
    {
     "name": "stdout",
     "output_type": "stream",
     "text": [
      "2\n"
     ]
    }
   ],
   "source": [
    "arr = np.array([6, 7, 8, 9])\n",
    "\n",
    "x = np.searchsorted(arr, 7, side='right')\n",
    "\n",
    "print(x)"
   ]
  },
  {
   "cell_type": "markdown",
   "id": "f28397e0",
   "metadata": {},
   "source": [
    "## Find the indexes where the values 2, 4, and 8 should be inserted:"
   ]
  },
  {
   "cell_type": "code",
   "execution_count": 13,
   "id": "b876755c",
   "metadata": {},
   "outputs": [
    {
     "name": "stdout",
     "output_type": "stream",
     "text": [
      "[1 2 4]\n"
     ]
    }
   ],
   "source": [
    "arr = np.array([1, 3, 5, 7])\n",
    "\n",
    "x = np.searchsorted(arr, [2, 4, 8])\n",
    "\n",
    "print(x) "
   ]
  }
 ],
 "metadata": {
  "kernelspec": {
   "display_name": "Python 3 (ipykernel)",
   "language": "python",
   "name": "python3"
  },
  "language_info": {
   "codemirror_mode": {
    "name": "ipython",
    "version": 3
   },
   "file_extension": ".py",
   "mimetype": "text/x-python",
   "name": "python",
   "nbconvert_exporter": "python",
   "pygments_lexer": "ipython3",
   "version": "3.11.4"
  }
 },
 "nbformat": 4,
 "nbformat_minor": 5
}
