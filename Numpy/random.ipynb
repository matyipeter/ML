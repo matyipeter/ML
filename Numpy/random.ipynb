{
 "cells": [
  {
   "cell_type": "code",
   "execution_count": 1,
   "id": "b4f46a03",
   "metadata": {},
   "outputs": [],
   "source": [
    "from numpy import random"
   ]
  },
  {
   "cell_type": "markdown",
   "id": "8622751f",
   "metadata": {},
   "source": [
    "# Generate Random Number"
   ]
  },
  {
   "cell_type": "code",
   "execution_count": 2,
   "id": "86de2646",
   "metadata": {},
   "outputs": [
    {
     "name": "stdout",
     "output_type": "stream",
     "text": [
      "68\n"
     ]
    }
   ],
   "source": [
    "a = random.randint(100)\n",
    "print(a)"
   ]
  },
  {
   "cell_type": "markdown",
   "id": "a7357b46",
   "metadata": {},
   "source": [
    "### The randint() method takes a size parameter where you can specify the shape of an array."
   ]
  },
  {
   "cell_type": "code",
   "execution_count": 7,
   "id": "e2aa0447",
   "metadata": {},
   "outputs": [
    {
     "name": "stdout",
     "output_type": "stream",
     "text": [
      "[65 34 60 47 23]\n"
     ]
    }
   ],
   "source": [
    "a = random.randint(100, size=5)\n",
    "print(a)"
   ]
  },
  {
   "cell_type": "markdown",
   "id": "2b442a9d",
   "metadata": {},
   "source": [
    "##### Generate a 2-D array with 3 rows, each row containing 5 random integers from 0 to 100:"
   ]
  },
  {
   "cell_type": "code",
   "execution_count": 10,
   "id": "e9c70853",
   "metadata": {},
   "outputs": [
    {
     "name": "stdout",
     "output_type": "stream",
     "text": [
      "[[33 25 28 13  7]\n",
      " [43 78  5 33 50]\n",
      " [53 62 54 78 40]]\n"
     ]
    }
   ],
   "source": [
    "a = random.randint(100, size=(3, 5))\n",
    "print(a)"
   ]
  },
  {
   "cell_type": "markdown",
   "id": "c0a7ac91",
   "metadata": {},
   "source": [
    "# Random between 0 and 1"
   ]
  },
  {
   "cell_type": "code",
   "execution_count": 6,
   "id": "fc5d7a91",
   "metadata": {},
   "outputs": [
    {
     "name": "stdout",
     "output_type": "stream",
     "text": [
      "0.4247562774769602\n"
     ]
    }
   ],
   "source": [
    "a = random.rand()\n",
    "print(a)"
   ]
  },
  {
   "cell_type": "markdown",
   "id": "d2bc4b66",
   "metadata": {},
   "source": [
    "### The rand() method also allows you to specify the shape of the array."
   ]
  },
  {
   "cell_type": "code",
   "execution_count": 11,
   "id": "05a0b1fe",
   "metadata": {},
   "outputs": [
    {
     "name": "stdout",
     "output_type": "stream",
     "text": [
      "[0.80577382 0.94177961 0.24790175]\n"
     ]
    }
   ],
   "source": [
    "a = random.rand(3)\n",
    "print(a)"
   ]
  },
  {
   "cell_type": "code",
   "execution_count": 13,
   "id": "c46961c8",
   "metadata": {},
   "outputs": [
    {
     "name": "stdout",
     "output_type": "stream",
     "text": [
      "[[0.88757613 0.01448624 0.67144112 0.71137351]\n",
      " [0.03379466 0.95224592 0.44452501 0.03046974]]\n"
     ]
    }
   ],
   "source": [
    "a = random.rand(2,4)\n",
    "print(a)"
   ]
  },
  {
   "cell_type": "markdown",
   "id": "3c6a9ddc",
   "metadata": {},
   "source": [
    "# Generate Random Number From Array"
   ]
  },
  {
   "cell_type": "markdown",
   "id": "1e67b63f",
   "metadata": {},
   "source": [
    "#### The choice() method takes an array as a parameter and randomly returns one of the values."
   ]
  },
  {
   "cell_type": "code",
   "execution_count": 16,
   "id": "ca2c18f8",
   "metadata": {},
   "outputs": [
    {
     "name": "stdout",
     "output_type": "stream",
     "text": [
      "5\n"
     ]
    }
   ],
   "source": [
    "a = random.choice([2,3,4,5,6,7,8,9])\n",
    "print(a)"
   ]
  },
  {
   "cell_type": "markdown",
   "id": "a97cb678",
   "metadata": {},
   "source": [
    "#### Add a size parameter to specify the shape of the array."
   ]
  },
  {
   "cell_type": "code",
   "execution_count": 18,
   "id": "7f8daa36",
   "metadata": {},
   "outputs": [
    {
     "name": "stdout",
     "output_type": "stream",
     "text": [
      "[[9 9 5]\n",
      " [2 5 6]]\n"
     ]
    }
   ],
   "source": [
    "a = random.choice([2,3,4,5,6,7,8,9], size=(2, 3))\n",
    "print(a)"
   ]
  }
 ],
 "metadata": {
  "kernelspec": {
   "display_name": "Python 3 (ipykernel)",
   "language": "python",
   "name": "python3"
  },
  "language_info": {
   "codemirror_mode": {
    "name": "ipython",
    "version": 3
   },
   "file_extension": ".py",
   "mimetype": "text/x-python",
   "name": "python",
   "nbconvert_exporter": "python",
   "pygments_lexer": "ipython3",
   "version": "3.11.4"
  }
 },
 "nbformat": 4,
 "nbformat_minor": 5
}
