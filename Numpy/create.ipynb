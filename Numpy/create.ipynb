{
 "cells": [
  {
   "cell_type": "code",
   "execution_count": 24,
   "id": "94efbd32",
   "metadata": {},
   "outputs": [],
   "source": [
    "import numpy as np"
   ]
  },
  {
   "cell_type": "code",
   "execution_count": 25,
   "id": "08437afb",
   "metadata": {},
   "outputs": [],
   "source": [
    "my_list = [1,2,3,4,5]\n",
    "my_tup = (2, 3, 4, 7, 5)\n",
    "arr = np.array(my_list)\n",
    "arr2 = np.array(my_tup)"
   ]
  },
  {
   "cell_type": "code",
   "execution_count": 26,
   "id": "706d04ea",
   "metadata": {},
   "outputs": [
    {
     "name": "stdout",
     "output_type": "stream",
     "text": [
      "<class 'list'>\n",
      "[1, 2, 3, 4, 5]\n",
      "<class 'numpy.ndarray'>\n",
      "[1 2 3 4 5]\n",
      "<class 'tuple'>\n",
      "(2, 3, 4, 7, 5)\n",
      "<class 'numpy.ndarray'>\n",
      "[2 3 4 7 5]\n"
     ]
    }
   ],
   "source": [
    "print(type(my_list))\n",
    "print(my_list)\n",
    "print(type(arr))\n",
    "print(arr)\n",
    "print(type(my_tup))\n",
    "print(my_tup)\n",
    "print(type(arr2))\n",
    "print(arr2)\n"
   ]
  },
  {
   "cell_type": "markdown",
   "id": "40b539ce",
   "metadata": {},
   "source": [
    "# 0D arrays "
   ]
  },
  {
   "cell_type": "markdown",
   "id": "53eccf08",
   "metadata": {},
   "source": [
    "### .ndim method --> checks how many dimensions the arrays have:"
   ]
  },
  {
   "cell_type": "code",
   "execution_count": 27,
   "id": "fdc9c290",
   "metadata": {},
   "outputs": [
    {
     "name": "stdout",
     "output_type": "stream",
     "text": [
      "34\n",
      "0\n"
     ]
    }
   ],
   "source": [
    "arr = np.array(34)\n",
    "print(arr)\n",
    "print(arr.ndim)"
   ]
  },
  {
   "cell_type": "markdown",
   "id": "f647f413",
   "metadata": {},
   "source": [
    "# 1D arrays"
   ]
  },
  {
   "cell_type": "code",
   "execution_count": 28,
   "id": "e27015c9",
   "metadata": {},
   "outputs": [
    {
     "name": "stdout",
     "output_type": "stream",
     "text": [
      "[ 20  34 534]\n",
      "1\n"
     ]
    }
   ],
   "source": [
    "arr = np.array([20,34,534])\n",
    "print(arr)\n",
    "print(arr.ndim)"
   ]
  },
  {
   "cell_type": "markdown",
   "id": "c4ae57c1",
   "metadata": {},
   "source": [
    "# 2D arrays"
   ]
  },
  {
   "cell_type": "code",
   "execution_count": 33,
   "id": "e50b9b6c",
   "metadata": {},
   "outputs": [
    {
     "name": "stdout",
     "output_type": "stream",
     "text": [
      "[[ 20  32  54]\n",
      " [543  53   2]]\n",
      "2\n"
     ]
    }
   ],
   "source": [
    "arr = np.array([[20, 32, 54], [543, 53, 2]])\n",
    "print(arr)\n",
    "print(arr.ndim)"
   ]
  },
  {
   "cell_type": "markdown",
   "id": "0aafde23",
   "metadata": {},
   "source": [
    "# 3D arrays"
   ]
  },
  {
   "cell_type": "code",
   "execution_count": 30,
   "id": "bb70fc17",
   "metadata": {},
   "outputs": [
    {
     "name": "stdout",
     "output_type": "stream",
     "text": [
      "[[[1 2 3]\n",
      "  [4 5 6]]\n",
      "\n",
      " [[1 2 3]\n",
      "  [4 5 6]]]\n",
      "3\n"
     ]
    }
   ],
   "source": [
    "arr = np.array([[[1, 2, 3], [4, 5, 6]], [[1, 2, 3], [4, 5, 6]]])\n",
    "print(arr)\n",
    "print(arr.ndim)"
   ]
  },
  {
   "cell_type": "markdown",
   "id": "00ce9357",
   "metadata": {},
   "source": [
    "# Custom array dimensions\n"
   ]
  },
  {
   "cell_type": "markdown",
   "id": "8294924b",
   "metadata": {},
   "source": [
    "##### In this array, the innermost dimension (5th dim) has 4 elements, the 4th dim has 1 element that is the vector, the 3rd dim has 1 element that is the matrix with the vector, the 2nd dim has 1 element that is 3D array and 1st dim has 1 element that is a 4D array."
   ]
  },
  {
   "cell_type": "code",
   "execution_count": 31,
   "id": "41884b31",
   "metadata": {},
   "outputs": [
    {
     "name": "stdout",
     "output_type": "stream",
     "text": [
      "[[[[[1 2 3 4]]]]]\n",
      "number of dimensions : 5\n"
     ]
    }
   ],
   "source": [
    "arr = np.array([1, 2, 3, 4], ndmin=5)\n",
    "\n",
    "print(arr)\n",
    "print('number of dimensions :', arr.ndim)"
   ]
  }
 ],
 "metadata": {
  "kernelspec": {
   "display_name": "Python 3 (ipykernel)",
   "language": "python",
   "name": "python3"
  },
  "language_info": {
   "codemirror_mode": {
    "name": "ipython",
    "version": 3
   },
   "file_extension": ".py",
   "mimetype": "text/x-python",
   "name": "python",
   "nbconvert_exporter": "python",
   "pygments_lexer": "ipython3",
   "version": "3.11.4"
  }
 },
 "nbformat": 4,
 "nbformat_minor": 5
}
