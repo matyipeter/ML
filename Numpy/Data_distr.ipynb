{
 "cells": [
  {
   "cell_type": "code",
   "execution_count": 6,
   "id": "bdebcf38",
   "metadata": {},
   "outputs": [],
   "source": [
    "from numpy import random\n",
    "import numpy as np"
   ]
  },
  {
   "cell_type": "code",
   "execution_count": 3,
   "id": "4e4c0e2d",
   "metadata": {},
   "outputs": [
    {
     "name": "stdout",
     "output_type": "stream",
     "text": [
      "[3 2 3 2 3 3 3 3 3 3]\n"
     ]
    }
   ],
   "source": [
    "a = random.choice([2,3], p=[0.3,0.7], size=10)\n",
    "print(a)"
   ]
  },
  {
   "cell_type": "markdown",
   "id": "2201eab0",
   "metadata": {},
   "source": [
    "### Same example as above, but return a 2-D array with 3 rows, each containing 5 values."
   ]
  },
  {
   "cell_type": "code",
   "execution_count": 5,
   "id": "39ad34d4",
   "metadata": {},
   "outputs": [
    {
     "name": "stdout",
     "output_type": "stream",
     "text": [
      "[[2 2 4 2 6 4 4 6 6 2]\n",
      " [4 2 2 2 6 4 4 6 6 6]\n",
      " [2 2 6 6 4 6 2 6 6 2]]\n"
     ]
    }
   ],
   "source": [
    "a = random.choice([2,4,6], p=[0.3,0.3,0.4], size=(3,10))\n",
    "print(a)"
   ]
  },
  {
   "cell_type": "markdown",
   "id": "4e523413",
   "metadata": {},
   "source": [
    "# Random permutation"
   ]
  },
  {
   "cell_type": "markdown",
   "id": "ea008688",
   "metadata": {},
   "source": [
    "##### The shuffle() method makes changes to the original array."
   ]
  },
  {
   "cell_type": "code",
   "execution_count": 9,
   "id": "73924df3",
   "metadata": {},
   "outputs": [
    {
     "name": "stdout",
     "output_type": "stream",
     "text": [
      "[5 4 1 3 2]\n"
     ]
    }
   ],
   "source": [
    "arr = np.array([1,2,3,4,5])\n",
    "random.shuffle(arr)\n",
    "print(arr)"
   ]
  },
  {
   "cell_type": "markdown",
   "id": "e090545d",
   "metadata": {},
   "source": [
    "##### The permutation() method returns a re-arranged array (and leaves the original array un-changed)."
   ]
  },
  {
   "cell_type": "code",
   "execution_count": 19,
   "id": "c5a663cc",
   "metadata": {},
   "outputs": [
    {
     "name": "stdout",
     "output_type": "stream",
     "text": [
      "arr: [1 2 3 4 5]\n",
      "a: [2 3 1 5 4]\n"
     ]
    }
   ],
   "source": [
    "arr = np.array([1,2,3,4,5])\n",
    "a = random.permutation(arr)\n",
    "print(f'arr: {arr}\\na: {a}')"
   ]
  }
 ],
 "metadata": {
  "kernelspec": {
   "display_name": "Python 3 (ipykernel)",
   "language": "python",
   "name": "python3"
  },
  "language_info": {
   "codemirror_mode": {
    "name": "ipython",
    "version": 3
   },
   "file_extension": ".py",
   "mimetype": "text/x-python",
   "name": "python",
   "nbconvert_exporter": "python",
   "pygments_lexer": "ipython3",
   "version": "3.11.4"
  }
 },
 "nbformat": 4,
 "nbformat_minor": 5
}
