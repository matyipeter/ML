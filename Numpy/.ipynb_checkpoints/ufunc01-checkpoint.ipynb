{
 "cells": [
  {
   "cell_type": "markdown",
   "id": "e141d5d1",
   "metadata": {},
   "source": [
    "## ufuncs are used to implement vectorization in NumPy which is way faster than iterating over elements."
   ]
  },
  {
   "cell_type": "code",
   "execution_count": 3,
   "id": "c0d85dc5",
   "metadata": {},
   "outputs": [],
   "source": [
    "import numpy as np"
   ]
  },
  {
   "cell_type": "markdown",
   "id": "b295c77f",
   "metadata": {},
   "source": [
    "### Python way\n"
   ]
  },
  {
   "cell_type": "code",
   "execution_count": 2,
   "id": "dae07dcd",
   "metadata": {},
   "outputs": [
    {
     "name": "stdout",
     "output_type": "stream",
     "text": [
      "[5, 7, 9, 11]\n"
     ]
    }
   ],
   "source": [
    "x = [1, 2, 3, 4]\n",
    "y = [4, 5, 6, 7]\n",
    "z = []\n",
    "\n",
    "for i, j in zip(x, y):\n",
    "  z.append(i + j)\n",
    "print(z) "
   ]
  },
  {
   "cell_type": "markdown",
   "id": "44030ffa",
   "metadata": {},
   "source": [
    "### Numpy way"
   ]
  },
  {
   "cell_type": "code",
   "execution_count": 6,
   "id": "d45e4311",
   "metadata": {},
   "outputs": [
    {
     "name": "stdout",
     "output_type": "stream",
     "text": [
      "[ 5  7  9 11]\n"
     ]
    }
   ],
   "source": [
    "x = [1, 2, 3, 4]\n",
    "y = [4, 5, 6, 7]\n",
    "z = np.add(x,y)\n",
    "print(z)"
   ]
  },
  {
   "cell_type": "markdown",
   "id": "ffeed9f1",
   "metadata": {},
   "source": [
    "## OR"
   ]
  },
  {
   "cell_type": "code",
   "execution_count": 7,
   "id": "1d6636fd",
   "metadata": {
    "scrolled": true
   },
   "outputs": [
    {
     "name": "stdout",
     "output_type": "stream",
     "text": [
      "[ 5  7  9 11]\n"
     ]
    }
   ],
   "source": [
    "x = np.array([1, 2, 3, 4])\n",
    "y = np.array([4, 5, 6, 7])\n",
    "z = x + y\n",
    "print(z)"
   ]
  }
 ],
 "metadata": {
  "kernelspec": {
   "display_name": "Python 3 (ipykernel)",
   "language": "python",
   "name": "python3"
  },
  "language_info": {
   "codemirror_mode": {
    "name": "ipython",
    "version": 3
   },
   "file_extension": ".py",
   "mimetype": "text/x-python",
   "name": "python",
   "nbconvert_exporter": "python",
   "pygments_lexer": "ipython3",
   "version": "3.11.4"
  }
 },
 "nbformat": 4,
 "nbformat_minor": 5
}
