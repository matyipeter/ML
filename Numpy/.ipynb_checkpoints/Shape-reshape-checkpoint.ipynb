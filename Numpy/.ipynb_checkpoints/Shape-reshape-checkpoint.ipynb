{
 "cells": [
  {
   "cell_type": "code",
   "execution_count": 1,
   "id": "ef715406",
   "metadata": {},
   "outputs": [],
   "source": [
    "import numpy as np"
   ]
  },
  {
   "cell_type": "markdown",
   "id": "03a58d31",
   "metadata": {},
   "source": [
    "# Get the number of dimensions"
   ]
  },
  {
   "cell_type": "code",
   "execution_count": 3,
   "id": "0923ffba",
   "metadata": {},
   "outputs": [
    {
     "name": "stdout",
     "output_type": "stream",
     "text": [
      "(2, 3)\n"
     ]
    }
   ],
   "source": [
    "arr = np.array([[1,2,3],[4,5,6]])\n",
    "print(arr.shape)"
   ]
  },
  {
   "cell_type": "code",
   "execution_count": 4,
   "id": "c29a29c1",
   "metadata": {},
   "outputs": [
    {
     "name": "stdout",
     "output_type": "stream",
     "text": [
      "(1, 2, 4)\n"
     ]
    }
   ],
   "source": [
    "arr = np.array([[[1,2,3,4],[5,6,7,8]]])\n",
    "print(arr.shape) "
   ]
  },
  {
   "cell_type": "code",
   "execution_count": 6,
   "id": "71c818ec",
   "metadata": {},
   "outputs": [
    {
     "name": "stdout",
     "output_type": "stream",
     "text": [
      "(1, 1, 1, 5)\n"
     ]
    }
   ],
   "source": [
    "arr = np.array([1,2,3,4,5], ndmin=4)\n",
    "print(arr.shape)"
   ]
  },
  {
   "cell_type": "markdown",
   "id": "d7d9d2e0",
   "metadata": {},
   "source": [
    "# Reshape arrays"
   ]
  },
  {
   "cell_type": "markdown",
   "id": "82cefe72",
   "metadata": {},
   "source": [
    "### Reshape from 1D to 2D"
   ]
  },
  {
   "cell_type": "code",
   "execution_count": 7,
   "id": "038208e5",
   "metadata": {},
   "outputs": [
    {
     "name": "stdout",
     "output_type": "stream",
     "text": [
      "[[ 1  2  3]\n",
      " [ 4  5  6]\n",
      " [ 7  8  9]\n",
      " [10 11 12]]\n"
     ]
    }
   ],
   "source": [
    "arr = np.array([1, 2, 3, 4, 5, 6, 7, 8, 9, 10, 11, 12])\n",
    "\n",
    "newarr = arr.reshape(4, 3)\n",
    "\n",
    "print(newarr)"
   ]
  },
  {
   "cell_type": "markdown",
   "id": "135463eb",
   "metadata": {},
   "source": [
    "### Reshape from 1D to 3D"
   ]
  },
  {
   "cell_type": "code",
   "execution_count": 8,
   "id": "869da7b1",
   "metadata": {},
   "outputs": [
    {
     "name": "stdout",
     "output_type": "stream",
     "text": [
      "[[[ 1  2]\n",
      "  [ 3  4]\n",
      "  [ 5  6]]\n",
      "\n",
      " [[ 7  8]\n",
      "  [ 9 10]\n",
      "  [11 12]]]\n"
     ]
    }
   ],
   "source": [
    "arr = np.array([1, 2, 3, 4, 5, 6, 7, 8, 9, 10, 11, 12])\n",
    "\n",
    "newarr = arr.reshape(2, 3, 2)\n",
    "\n",
    "print(newarr)"
   ]
  },
  {
   "cell_type": "markdown",
   "id": "40f674f6",
   "metadata": {},
   "source": [
    "### Unknown dimension"
   ]
  },
  {
   "cell_type": "code",
   "execution_count": 19,
   "id": "9840d8da",
   "metadata": {},
   "outputs": [
    {
     "name": "stdout",
     "output_type": "stream",
     "text": [
      "[[[ 1  2]\n",
      "  [ 3  4]\n",
      "  [ 5  6]]\n",
      "\n",
      " [[ 7  8]\n",
      "  [ 9 10]\n",
      "  [11 12]]]\n"
     ]
    }
   ],
   "source": [
    "arr = np.array([1, 2, 3, 4, 5, 6, 7, 8, 9, 10, 11, 12])\n",
    "\n",
    "newarr = arr.reshape(2, -1, 2)\n",
    "\n",
    "print(newarr) "
   ]
  },
  {
   "cell_type": "markdown",
   "id": "ad9dbdac",
   "metadata": {},
   "source": [
    "### Flattening the arrays"
   ]
  },
  {
   "cell_type": "markdown",
   "id": "6ff794ea",
   "metadata": {},
   "source": [
    "##### Flattening array means converting a multidimensional array into a 1D array."
   ]
  },
  {
   "cell_type": "code",
   "execution_count": 20,
   "id": "eef2270e",
   "metadata": {
    "scrolled": true
   },
   "outputs": [
    {
     "name": "stdout",
     "output_type": "stream",
     "text": [
      "[ 1  2  3  4  5  6  7  8  9 10 11 12]\n"
     ]
    }
   ],
   "source": [
    "arr = np.array([[1, 2, 3, 4], [5, 6, 7, 8], [9, 10, 11, 12]])\n",
    "\n",
    "newarr = arr.reshape(-1)\n",
    "\n",
    "print(newarr) "
   ]
  }
 ],
 "metadata": {
  "kernelspec": {
   "display_name": "Python 3 (ipykernel)",
   "language": "python",
   "name": "python3"
  },
  "language_info": {
   "codemirror_mode": {
    "name": "ipython",
    "version": 3
   },
   "file_extension": ".py",
   "mimetype": "text/x-python",
   "name": "python",
   "nbconvert_exporter": "python",
   "pygments_lexer": "ipython3",
   "version": "3.11.4"
  }
 },
 "nbformat": 4,
 "nbformat_minor": 5
}
