{
 "cells": [
  {
   "cell_type": "code",
   "execution_count": 12,
   "id": "bbe58734",
   "metadata": {},
   "outputs": [],
   "source": [
    "import numpy as np"
   ]
  },
  {
   "cell_type": "markdown",
   "id": "3140c0ad",
   "metadata": {},
   "source": [
    "### The frompyfunc() method takes the following arguments:\n",
    "\n",
    "    function - the name of the function.\n",
    "    inputs - the number of input arguments (arrays).\n",
    "    outputs - the number of output arrays.\n"
   ]
  },
  {
   "cell_type": "code",
   "execution_count": 13,
   "id": "80f422ab",
   "metadata": {
    "scrolled": true
   },
   "outputs": [
    {
     "name": "stdout",
     "output_type": "stream",
     "text": [
      "<class 'numpy.ufunc'>\n",
      "[6 8 10 12]\n"
     ]
    }
   ],
   "source": [
    "def additon(x, y):\n",
    "    return x+y\n",
    "\n",
    "addition = np.frompyfunc(additon, 2, 1)\n",
    "print(type(addition))\n",
    "res = addition([1,2,3,4], [5,6,7,8])\n",
    "print(res)"
   ]
  },
  {
   "cell_type": "markdown",
   "id": "16ae6b1d",
   "metadata": {},
   "source": [
    "### Check if ufunc"
   ]
  },
  {
   "cell_type": "code",
   "execution_count": 16,
   "id": "7de1202c",
   "metadata": {
    "scrolled": true
   },
   "outputs": [
    {
     "name": "stdout",
     "output_type": "stream",
     "text": [
      "add is not ufunc\n"
     ]
    }
   ],
   "source": [
    "if type(np.concatenate) == np.ufunc:\n",
    "  print('add is ufunc')\n",
    "else:\n",
    "  print('add is not ufunc') "
   ]
  },
  {
   "cell_type": "markdown",
   "id": "99c6a5e4",
   "metadata": {},
   "source": [
    "# Arithmetics"
   ]
  },
  {
   "cell_type": "markdown",
   "id": "1b3569d4",
   "metadata": {},
   "source": [
    "#### Arithmetic Conditionally: means that we can define conditions where the arithmetic operation should happen."
   ]
  },
  {
   "cell_type": "code",
   "execution_count": 17,
   "id": "fd812fb5",
   "metadata": {},
   "outputs": [],
   "source": [
    "arr1 = np.array([10, 11, 12, 13, 14, 15])\n",
    "arr2 = np.array([20, 21, 22, 23, 24, 25])"
   ]
  },
  {
   "cell_type": "markdown",
   "id": "3489208c",
   "metadata": {},
   "source": [
    "### Addition:"
   ]
  },
  {
   "cell_type": "code",
   "execution_count": 19,
   "id": "38eba5c9",
   "metadata": {},
   "outputs": [
    {
     "name": "stdout",
     "output_type": "stream",
     "text": [
      "[30 32 34 36 38 40]\n"
     ]
    }
   ],
   "source": [
    "newarr = np.add(arr1, arr2)\n",
    "print(newarr) "
   ]
  },
  {
   "cell_type": "markdown",
   "id": "92307a54",
   "metadata": {},
   "source": [
    "### Substraction"
   ]
  },
  {
   "cell_type": "code",
   "execution_count": 20,
   "id": "1b1ea44f",
   "metadata": {},
   "outputs": [
    {
     "name": "stdout",
     "output_type": "stream",
     "text": [
      "[-10 -10 -10 -10 -10 -10]\n"
     ]
    }
   ],
   "source": [
    "newarr = np.subtract(arr1, arr2)\n",
    "print(newarr)"
   ]
  },
  {
   "cell_type": "markdown",
   "id": "61906f74",
   "metadata": {},
   "source": [
    "### Multiplication"
   ]
  },
  {
   "cell_type": "code",
   "execution_count": 21,
   "id": "85618e2a",
   "metadata": {},
   "outputs": [
    {
     "name": "stdout",
     "output_type": "stream",
     "text": [
      "[200 231 264 299 336 375]\n"
     ]
    }
   ],
   "source": [
    "newarr = np.multiply(arr1, arr2)\n",
    "print(newarr) "
   ]
  },
  {
   "cell_type": "markdown",
   "id": "83a9e624",
   "metadata": {},
   "source": [
    "### Division"
   ]
  },
  {
   "cell_type": "code",
   "execution_count": 22,
   "id": "7790fa32",
   "metadata": {},
   "outputs": [
    {
     "name": "stdout",
     "output_type": "stream",
     "text": [
      "[0.5        0.52380952 0.54545455 0.56521739 0.58333333 0.6       ]\n"
     ]
    }
   ],
   "source": [
    "newarr = np.divide(arr1, arr2)\n",
    "print(newarr) "
   ]
  },
  {
   "cell_type": "markdown",
   "id": "b2cac7a1",
   "metadata": {},
   "source": [
    "### Power"
   ]
  },
  {
   "cell_type": "code",
   "execution_count": 25,
   "id": "0f031f76",
   "metadata": {},
   "outputs": [
    {
     "name": "stdout",
     "output_type": "stream",
     "text": [
      "[   4   81 4096   25 1296]\n"
     ]
    }
   ],
   "source": [
    "arr1 = np.array([2,3,4,5,6])\n",
    "arr2 = np.array([2,4,6,2,4])\n",
    "\n",
    "newarr = np.power(arr1, arr2)\n",
    "\n",
    "print(newarr) "
   ]
  },
  {
   "cell_type": "markdown",
   "id": "a45e18c9",
   "metadata": {},
   "source": [
    "### Remainder"
   ]
  },
  {
   "cell_type": "code",
   "execution_count": 26,
   "id": "97b76140",
   "metadata": {},
   "outputs": [
    {
     "name": "stdout",
     "output_type": "stream",
     "text": [
      "[ 1  6  3  0  0 27]\n"
     ]
    }
   ],
   "source": [
    "arr1 = np.array([10, 20, 30, 40, 50, 60])\n",
    "arr2 = np.array([3, 7, 9, 8, 2, 33])\n",
    "\n",
    "newarr = np.mod(arr1, arr2)\n",
    "print(newarr) "
   ]
  },
  {
   "cell_type": "markdown",
   "id": "58177fc8",
   "metadata": {},
   "source": [
    "### Divmod\n"
   ]
  },
  {
   "cell_type": "code",
   "execution_count": 27,
   "id": "a9212d95",
   "metadata": {},
   "outputs": [
    {
     "name": "stdout",
     "output_type": "stream",
     "text": [
      "(array([ 3,  2,  3,  5, 25,  1]), array([ 1,  6,  3,  0,  0, 27]))\n"
     ]
    }
   ],
   "source": [
    "arr1 = np.array([10, 20, 30, 40, 50, 60])\n",
    "arr2 = np.array([3, 7, 9, 8, 2, 33])\n",
    "\n",
    "newarr = np.divmod(arr1, arr2)\n",
    "print(newarr) "
   ]
  },
  {
   "cell_type": "markdown",
   "id": "d19925bc",
   "metadata": {},
   "source": [
    "# Rounding numbers"
   ]
  },
  {
   "cell_type": "markdown",
   "id": "06b799cb",
   "metadata": {},
   "source": [
    "### .trunc, .around, .floor, .ceil"
   ]
  },
  {
   "cell_type": "code",
   "execution_count": 36,
   "id": "370e177b",
   "metadata": {},
   "outputs": [
    {
     "name": "stdout",
     "output_type": "stream",
     "text": [
      "[2. 4.]\n"
     ]
    }
   ],
   "source": [
    "a = np.array([2.34, 3.95])\n",
    "b = np.around(a, 0)\n",
    "print(b)"
   ]
  },
  {
   "cell_type": "markdown",
   "id": "713fa1fb",
   "metadata": {},
   "source": [
    "# Logs"
   ]
  },
  {
   "cell_type": "markdown",
   "id": "53f11a7f",
   "metadata": {},
   "source": [
    "#### The arange(1, 10) function returns an array with integers starting from 1 (included) to 10 (not included)."
   ]
  },
  {
   "cell_type": "markdown",
   "id": "b86e9a02",
   "metadata": {},
   "source": [
    "#### Find log at base 2 of all elements of following array:\n"
   ]
  },
  {
   "cell_type": "code",
   "execution_count": 37,
   "id": "e1339a36",
   "metadata": {},
   "outputs": [
    {
     "name": "stdout",
     "output_type": "stream",
     "text": [
      "[0.         1.         1.5849625  2.         2.32192809 2.5849625\n",
      " 2.80735492 3.         3.169925  ]\n"
     ]
    }
   ],
   "source": [
    "arr = np.arange(1, 10)\n",
    "print(np.log2(arr)) "
   ]
  },
  {
   "cell_type": "markdown",
   "id": "50e7ab0e",
   "metadata": {},
   "source": [
    "#### Find log at base 10 of all elements of following array:"
   ]
  },
  {
   "cell_type": "code",
   "execution_count": 41,
   "id": "5b9e3320",
   "metadata": {},
   "outputs": [
    {
     "name": "stdout",
     "output_type": "stream",
     "text": [
      "[1.      2.      2.69897 3.      3.30103]\n"
     ]
    }
   ],
   "source": [
    "arr = np.array([10,100,500,1000,2000])\n",
    "print(np.log10(arr))"
   ]
  },
  {
   "cell_type": "markdown",
   "id": "2777e579",
   "metadata": {},
   "source": [
    "#### Find log at base e of all elements of following array:"
   ]
  },
  {
   "cell_type": "code",
   "execution_count": 42,
   "id": "25aed28b",
   "metadata": {},
   "outputs": [
    {
     "name": "stdout",
     "output_type": "stream",
     "text": [
      "[0.         0.69314718 1.09861229 1.38629436 1.60943791 1.79175947\n",
      " 1.94591015 2.07944154 2.19722458]\n"
     ]
    }
   ],
   "source": [
    "arr = np.arange(1, 10)\n",
    "print(np.log(arr)) "
   ]
  },
  {
   "cell_type": "markdown",
   "id": "43147c8c",
   "metadata": {},
   "source": [
    "#### Log at Any Base"
   ]
  },
  {
   "cell_type": "code",
   "execution_count": 45,
   "id": "ff361a45",
   "metadata": {},
   "outputs": [
    {
     "name": "stdout",
     "output_type": "stream",
     "text": [
      "3.0\n"
     ]
    }
   ],
   "source": [
    "from math import log\n",
    "\n",
    "nplog = np.frompyfunc(log, 2, 1)\n",
    "print(nplog(8, 2)) "
   ]
  },
  {
   "cell_type": "markdown",
   "id": "0118499e",
   "metadata": {},
   "source": [
    "### Returning every element's Base 3 log"
   ]
  },
  {
   "cell_type": "code",
   "execution_count": 53,
   "id": "2f82ea5b",
   "metadata": {
    "scrolled": true
   },
   "outputs": [
    {
     "name": "stdout",
     "output_type": "stream",
     "text": [
      "[0.0 0.6309297535714574 1.0 1.2618595071429148 1.4649735207179269\n",
      " 1.6309297535714573 1.7712437491614221 1.892789260714372 2.0]\n"
     ]
    }
   ],
   "source": [
    "arr = np.arange(1,10)\n",
    "print(nplog(arr, 3))"
   ]
  },
  {
   "cell_type": "markdown",
   "id": "3396e193",
   "metadata": {},
   "source": [
    "# Summations"
   ]
  },
  {
   "cell_type": "code",
   "execution_count": 55,
   "id": "4434e435",
   "metadata": {},
   "outputs": [
    {
     "name": "stdout",
     "output_type": "stream",
     "text": [
      "36\n"
     ]
    }
   ],
   "source": [
    "arr = np.array([1,2,3,4])\n",
    "arr2 = np.array([5,6,7,8])\n",
    "newarr = np.sum([arr, arr2])\n",
    "print(newarr)"
   ]
  },
  {
   "cell_type": "code",
   "execution_count": 59,
   "id": "b12ae1fb",
   "metadata": {},
   "outputs": [
    {
     "name": "stdout",
     "output_type": "stream",
     "text": [
      "[6 6]\n"
     ]
    }
   ],
   "source": [
    "arr1 = np.array([1, 2, 3])\n",
    "arr2 = np.array([1, 2, 3])\n",
    "\n",
    "newarr = np.sum([arr1, arr2], axis=1)\n",
    "\n",
    "print(newarr) "
   ]
  },
  {
   "cell_type": "markdown",
   "id": "1bf10bec",
   "metadata": {},
   "source": [
    "#### Cummulative Sum"
   ]
  },
  {
   "cell_type": "markdown",
   "id": "84f0b171",
   "metadata": {},
   "source": [
    "##### Cummulative sum means partially adding the elements in array.\n",
    "\n",
    "E.g. The partial sum of [1, 2, 3, 4] would be [1, 1+2, 1+2+3, 1+2+3+4] = [1, 3, 6, 10]."
   ]
  },
  {
   "cell_type": "code",
   "execution_count": 60,
   "id": "dd6e534a",
   "metadata": {},
   "outputs": [
    {
     "name": "stdout",
     "output_type": "stream",
     "text": [
      "[1 3 6]\n"
     ]
    }
   ],
   "source": [
    "arr = np.array([1, 2, 3])\n",
    "\n",
    "newarr = np.cumsum(arr)\n",
    "\n",
    "print(newarr) "
   ]
  }
 ],
 "metadata": {
  "kernelspec": {
   "display_name": "Python 3 (ipykernel)",
   "language": "python",
   "name": "python3"
  },
  "language_info": {
   "codemirror_mode": {
    "name": "ipython",
    "version": 3
   },
   "file_extension": ".py",
   "mimetype": "text/x-python",
   "name": "python",
   "nbconvert_exporter": "python",
   "pygments_lexer": "ipython3",
   "version": "3.11.4"
  }
 },
 "nbformat": 4,
 "nbformat_minor": 5
}
