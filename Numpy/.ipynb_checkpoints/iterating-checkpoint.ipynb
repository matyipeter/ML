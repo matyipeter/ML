{
 "cells": [
  {
   "cell_type": "markdown",
   "id": "351e73cf",
   "metadata": {},
   "source": [
    "# Iterating through arrays"
   ]
  },
  {
   "cell_type": "code",
   "execution_count": 1,
   "id": "134713f9",
   "metadata": {},
   "outputs": [],
   "source": [
    "import numpy as np"
   ]
  },
  {
   "cell_type": "markdown",
   "id": "bd7d2204",
   "metadata": {},
   "source": [
    "## Basic forloop "
   ]
  },
  {
   "cell_type": "code",
   "execution_count": 2,
   "id": "018c1a9a",
   "metadata": {},
   "outputs": [
    {
     "name": "stdout",
     "output_type": "stream",
     "text": [
      "1\n",
      "2\n",
      "3\n",
      "4\n",
      "5\n",
      "6\n"
     ]
    }
   ],
   "source": [
    "arr = np.array([1,2,3,4,5,6])\n",
    "\n",
    "for i in arr:\n",
    "    print(i)"
   ]
  },
  {
   "cell_type": "markdown",
   "id": "268354b5",
   "metadata": {},
   "source": [
    "## Nested forloop"
   ]
  },
  {
   "cell_type": "code",
   "execution_count": 4,
   "id": "d6102f80",
   "metadata": {},
   "outputs": [
    {
     "name": "stdout",
     "output_type": "stream",
     "text": [
      "1\n",
      "2\n",
      "3\n",
      "4\n",
      "5\n",
      "6\n",
      "7\n",
      "8\n",
      "9\n",
      "10\n",
      "11\n",
      "12\n",
      "13\n",
      "14\n",
      "15\n",
      "16\n",
      "17\n",
      "18\n",
      "19\n",
      "20\n"
     ]
    }
   ],
   "source": [
    "arr = np.array([[[1,2,3,4,5],[6,7,8,9,10]],[[11,12,13,14,15],[16,17,18,19,20]]])\n",
    "\n",
    "for i in arr:\n",
    "    for n in i:\n",
    "        for p in n:\n",
    "            print(p)"
   ]
  },
  {
   "cell_type": "markdown",
   "id": "051f95b1",
   "metadata": {},
   "source": [
    "## Nditer"
   ]
  },
  {
   "cell_type": "code",
   "execution_count": 5,
   "id": "016293dd",
   "metadata": {},
   "outputs": [
    {
     "name": "stdout",
     "output_type": "stream",
     "text": [
      "1\n",
      "2\n",
      "3\n",
      "4\n",
      "5\n",
      "6\n"
     ]
    }
   ],
   "source": [
    "arr = np.array([[1,2,3],[4,5,6]])\n",
    "\n",
    "for i in np.nditer(arr):\n",
    "    print(i)"
   ]
  },
  {
   "cell_type": "markdown",
   "id": "e5ba2cd2",
   "metadata": {},
   "source": [
    "## Iterating Array With Different Data Types "
   ]
  },
  {
   "cell_type": "markdown",
   "id": "e28f802f",
   "metadata": {},
   "source": [
    "#### NumPy does not change the data type of the element in-place (where the element is in array) so it needs some other space to perform this action, that extra space is called buffer, and in order to enable it in nditer() we pass flags=['buffered']. "
   ]
  },
  {
   "cell_type": "code",
   "execution_count": 6,
   "id": "d145d575",
   "metadata": {},
   "outputs": [
    {
     "name": "stdout",
     "output_type": "stream",
     "text": [
      "b'1'\n",
      "b'2'\n",
      "b'3'\n"
     ]
    }
   ],
   "source": [
    "arr = np.array([1,2,3])\n",
    "\n",
    "for i in np.nditer(arr, flags=['buffered'], op_dtypes=['S']):\n",
    "    print(i)"
   ]
  },
  {
   "cell_type": "markdown",
   "id": "2b745451",
   "metadata": {},
   "source": [
    "## Iterating with steps"
   ]
  },
  {
   "cell_type": "code",
   "execution_count": 7,
   "id": "9d0d0540",
   "metadata": {},
   "outputs": [
    {
     "name": "stdout",
     "output_type": "stream",
     "text": [
      "1\n",
      "3\n",
      "5\n",
      "7\n"
     ]
    }
   ],
   "source": [
    "arr = np.array([[1, 2, 3, 4], [5, 6, 7, 8]])\n",
    "\n",
    "for x in np.nditer(arr[:, ::2]):\n",
    "  print(x) "
   ]
  },
  {
   "cell_type": "markdown",
   "id": "89460a8d",
   "metadata": {},
   "source": [
    "## Enumerate\n"
   ]
  },
  {
   "cell_type": "code",
   "execution_count": 10,
   "id": "6ad2598f",
   "metadata": {},
   "outputs": [
    {
     "name": "stdout",
     "output_type": "stream",
     "text": [
      "(0,) 1\n",
      "(1,) 2\n",
      "(2,) 3\n"
     ]
    }
   ],
   "source": [
    "arr = np.array([1, 2, 3])\n",
    "\n",
    "for idx, x in np.ndenumerate(arr):\n",
    "  print(idx, x)"
   ]
  },
  {
   "cell_type": "code",
   "execution_count": 11,
   "id": "407308e9",
   "metadata": {},
   "outputs": [
    {
     "name": "stdout",
     "output_type": "stream",
     "text": [
      "(0, 0) 1\n",
      "(0, 1) 2\n",
      "(0, 2) 3\n",
      "(0, 3) 4\n",
      "(1, 0) 5\n",
      "(1, 1) 6\n",
      "(1, 2) 7\n",
      "(1, 3) 8\n"
     ]
    }
   ],
   "source": [
    "arr = np.array([[1, 2, 3, 4], [5, 6, 7, 8]])\n",
    "\n",
    "for idx, x in np.ndenumerate(arr):\n",
    "  print(idx, x) "
   ]
  }
 ],
 "metadata": {
  "kernelspec": {
   "display_name": "Python 3 (ipykernel)",
   "language": "python",
   "name": "python3"
  },
  "language_info": {
   "codemirror_mode": {
    "name": "ipython",
    "version": 3
   },
   "file_extension": ".py",
   "mimetype": "text/x-python",
   "name": "python",
   "nbconvert_exporter": "python",
   "pygments_lexer": "ipython3",
   "version": "3.11.4"
  }
 },
 "nbformat": 4,
 "nbformat_minor": 5
}
