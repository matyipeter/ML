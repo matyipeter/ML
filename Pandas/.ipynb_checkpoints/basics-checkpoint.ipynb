{
 "cells": [
  {
   "cell_type": "code",
   "execution_count": 1,
   "id": "afd564d3",
   "metadata": {},
   "outputs": [],
   "source": [
    "import pandas as pd"
   ]
  },
  {
   "cell_type": "markdown",
   "id": "b4cea38f",
   "metadata": {},
   "source": [
    "### Creating a basic dataframe"
   ]
  },
  {
   "cell_type": "code",
   "execution_count": 6,
   "id": "350168d8",
   "metadata": {},
   "outputs": [],
   "source": [
    "data_set = {\n",
    "    'classes':['Math', 'Music', 'History'],\n",
    "    'grades':[5,4,5]\n",
    "}"
   ]
  },
  {
   "cell_type": "code",
   "execution_count": 7,
   "id": "6fb82ed1",
   "metadata": {
    "scrolled": true
   },
   "outputs": [
    {
     "name": "stdout",
     "output_type": "stream",
     "text": [
      "   classes  grades\n",
      "0     Math       5\n",
      "1    Music       4\n",
      "2  History       5\n"
     ]
    }
   ],
   "source": [
    "var = pd.DataFrame(data_set)\n",
    "print(var)"
   ]
  },
  {
   "cell_type": "markdown",
   "id": "c8d375cc",
   "metadata": {},
   "source": [
    "### Series"
   ]
  },
  {
   "cell_type": "code",
   "execution_count": 10,
   "id": "5de0e8ff",
   "metadata": {},
   "outputs": [
    {
     "name": "stdout",
     "output_type": "stream",
     "text": [
      "x    3\n",
      "y    5\n",
      "z    7\n",
      "dtype: int64\n"
     ]
    }
   ],
   "source": [
    "data = [3, 5, 7]\n",
    "x = pd.Series(data, index=['x', 'y', 'z'])\n",
    "print(x)"
   ]
  },
  {
   "cell_type": "code",
   "execution_count": 11,
   "id": "a3a61e68",
   "metadata": {},
   "outputs": [
    {
     "name": "stdout",
     "output_type": "stream",
     "text": [
      "x    3\n",
      "y    5\n",
      "z    7\n",
      "dtype: int64\n"
     ]
    }
   ],
   "source": [
    "data = {'x': 3, 'y': 5, 'z': 7}\n",
    "x = pd.Series(data)\n",
    "print(x)"
   ]
  },
  {
   "cell_type": "markdown",
   "id": "aa7143a9",
   "metadata": {},
   "source": [
    "#### Including only specified items"
   ]
  },
  {
   "cell_type": "code",
   "execution_count": 12,
   "id": "23b848ad",
   "metadata": {},
   "outputs": [
    {
     "name": "stdout",
     "output_type": "stream",
     "text": [
      "day1    420\n",
      "day2    380\n",
      "dtype: int64\n"
     ]
    }
   ],
   "source": [
    "calories = {\"day1\": 420, \"day2\": 380, \"day3\": 390}\n",
    "myvar = pd.Series(calories, index = [\"day1\", \"day2\"])\n",
    "print(myvar)"
   ]
  },
  {
   "cell_type": "markdown",
   "id": "c4e51544",
   "metadata": {},
   "source": [
    "# DataFrames"
   ]
  },
  {
   "cell_type": "markdown",
   "id": "c3c7e66c",
   "metadata": {},
   "source": [
    "#### A Pandas DataFrame is a 2 dimensional data structure, like a 2 dimensional array, or a table with rows and columns."
   ]
  },
  {
   "cell_type": "code",
   "execution_count": 13,
   "id": "c1675af7",
   "metadata": {},
   "outputs": [],
   "source": [
    "data = {\n",
    "  \"calories\": [420, 380, 390],\n",
    "  \"duration\": [50, 40, 45]\n",
    "}"
   ]
  },
  {
   "cell_type": "markdown",
   "id": "a1859148",
   "metadata": {},
   "source": [
    "##### Load the data into the DataFrame object"
   ]
  },
  {
   "cell_type": "code",
   "execution_count": 14,
   "id": "f1e28650",
   "metadata": {},
   "outputs": [
    {
     "name": "stdout",
     "output_type": "stream",
     "text": [
      "   calories  duration\n",
      "0       420        50\n",
      "1       380        40\n",
      "2       390        45\n"
     ]
    }
   ],
   "source": [
    "df = pd.DataFrame(data)\n",
    "print(df)"
   ]
  },
  {
   "cell_type": "markdown",
   "id": "fb5eb086",
   "metadata": {},
   "source": [
    "### Locate Row"
   ]
  },
  {
   "cell_type": "code",
   "execution_count": 16,
   "id": "9d35fbbb",
   "metadata": {},
   "outputs": [
    {
     "name": "stdout",
     "output_type": "stream",
     "text": [
      "calories    420\n",
      "duration     50\n",
      "Name: 0, dtype: int64\n"
     ]
    }
   ],
   "source": [
    "print(df.loc[0])"
   ]
  },
  {
   "cell_type": "markdown",
   "id": "d96a7032",
   "metadata": {},
   "source": [
    "##### This return a series object"
   ]
  },
  {
   "cell_type": "code",
   "execution_count": 17,
   "id": "18f9df1e",
   "metadata": {},
   "outputs": [
    {
     "name": "stdout",
     "output_type": "stream",
     "text": [
      "   calories  duration\n",
      "1       380        40\n",
      "2       390        45\n"
     ]
    }
   ],
   "source": [
    "print(df.loc[[1, 2]])"
   ]
  },
  {
   "cell_type": "markdown",
   "id": "9b06fdee",
   "metadata": {},
   "source": [
    "##### This returns a DataFrame object"
   ]
  },
  {
   "cell_type": "markdown",
   "id": "c16e6b16",
   "metadata": {},
   "source": [
    "### Naming the indexes"
   ]
  },
  {
   "cell_type": "code",
   "execution_count": 18,
   "id": "7856bc19",
   "metadata": {},
   "outputs": [
    {
     "name": "stdout",
     "output_type": "stream",
     "text": [
      "      calories  duration\n",
      "day1       420        50\n",
      "day2       380        40\n",
      "day3       390        45\n"
     ]
    }
   ],
   "source": [
    "data = {\n",
    "  \"calories\": [420, 380, 390],\n",
    "  \"duration\": [50, 40, 45]\n",
    "}\n",
    "\n",
    "df = pd.DataFrame(data, index = [\"day1\", \"day2\", \"day3\"])\n",
    "print(df) "
   ]
  },
  {
   "cell_type": "code",
   "execution_count": 21,
   "id": "6a62ca50",
   "metadata": {},
   "outputs": [
    {
     "name": "stdout",
     "output_type": "stream",
     "text": [
      "calories    380\n",
      "duration     40\n",
      "Name: day2, dtype: int64\n"
     ]
    }
   ],
   "source": [
    "print(df.loc['day2'])"
   ]
  }
 ],
 "metadata": {
  "kernelspec": {
   "display_name": "Python 3 (ipykernel)",
   "language": "python",
   "name": "python3"
  },
  "language_info": {
   "codemirror_mode": {
    "name": "ipython",
    "version": 3
   },
   "file_extension": ".py",
   "mimetype": "text/x-python",
   "name": "python",
   "nbconvert_exporter": "python",
   "pygments_lexer": "ipython3",
   "version": "3.11.4"
  }
 },
 "nbformat": 4,
 "nbformat_minor": 5
}
